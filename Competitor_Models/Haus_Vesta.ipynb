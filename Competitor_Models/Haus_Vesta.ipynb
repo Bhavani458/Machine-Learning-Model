{
 "cells": [
  {
   "cell_type": "code",
   "execution_count": 1,
   "id": "5cff1683",
   "metadata": {},
   "outputs": [
    {
     "data": {
      "text/plain": [
       "(18275268.68963436,\n",
       " array([-267241.62896 , -216419.110085, -330012.829276, -226281.989469,\n",
       "        -247324.347585]),\n",
       " array([-266331.2452, -218149.0059, -332091.0791, -223524.7162,\n",
       "        -248307.5186]))"
      ]
     },
     "execution_count": 1,
     "metadata": {},
     "output_type": "execute_result"
    }
   ],
   "source": [
    "import pickle\n",
    "import pandas as pd\n",
    "from sklearn.model_selection import train_test_split\n",
    "from sklearn.ensemble import RandomForestRegressor\n",
    "from sklearn.metrics import mean_squared_error\n",
    "\n",
    "# Load the Excel file\n",
    "file_path = 'Vesta_Project.xlsx'\n",
    "excel_data = pd.ExcelFile(file_path)\n",
    "\n",
    "# Load the ROI_HO_EquityAccess sheet data\n",
    "equity_access_data = pd.read_excel(excel_data, 'ROI_HO_EquityAccess')\n",
    "\n",
    "# Key variables and target for HELCO ROI model\n",
    "key_variables_Haus = ['Estimated_Value', 'Equity_Value', 'HEI Opportunity', 'Morgage Balance', \n",
    "                        'Haus_Buyout_10yr', \n",
    "                       'Vesta_Buyout_10yr']\n",
    "target_variable_Haus = 'ROI_Haus_Vesta'\n",
    "\n",
    "# Filter the dataset to include only the selected variables\n",
    "equity_access_Haus = equity_access_data[key_variables_Haus + [target_variable_Haus]].dropna()\n",
    "\n",
    "# Split data into features (X) and target (y) for the given target variable\n",
    "X_Haus = equity_access_Haus[key_variables_Haus]\n",
    "y_Haus = equity_access_Haus[target_variable_Haus]\n",
    "\n",
    "# Split data into training and testing sets\n",
    "X_train_Haus, X_test_Haus, y_train_Haus, y_test_Haus = train_test_split(X_Haus, y_Haus, test_size=0.2, random_state=42)\n",
    "\n",
    "# Build a Random Forest model for the single target variable\n",
    "rf_model_Haus = RandomForestRegressor(n_estimators=100, random_state=42)\n",
    "\n",
    "# Train the model\n",
    "rf_model_Haus.fit(X_train_Haus, y_train_Haus)\n",
    "\n",
    "# Predict on the test set\n",
    "y_pred_Haus = rf_model_Haus.predict(X_test_Haus)\n",
    "\n",
    "# Calculate the performance using Mean Squared Error (MSE)\n",
    "mse_Haus = mean_squared_error(y_test_Haus, y_pred_Haus)\n",
    "\n",
    "# Save the trained model to a pickle file\n",
    "with open('Haus_model.pkl', 'wb') as file:\n",
    "    pickle.dump(rf_model_Haus, file)\n",
    "\n",
    "mse_Haus, y_pred_Haus[:5], y_test_Haus[:5].values\n"
   ]
  },
  {
   "cell_type": "code",
   "execution_count": null,
   "id": "c6cee068",
   "metadata": {},
   "outputs": [],
   "source": []
  }
 ],
 "metadata": {
  "kernelspec": {
   "display_name": "Python 3 (ipykernel)",
   "language": "python",
   "name": "python3"
  },
  "language_info": {
   "codemirror_mode": {
    "name": "ipython",
    "version": 3
   },
   "file_extension": ".py",
   "mimetype": "text/x-python",
   "name": "python",
   "nbconvert_exporter": "python",
   "pygments_lexer": "ipython3",
   "version": "3.9.18"
  }
 },
 "nbformat": 4,
 "nbformat_minor": 5
}

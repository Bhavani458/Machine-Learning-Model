{
 "cells": [
  {
   "cell_type": "code",
   "execution_count": 2,
   "id": "206ebf25",
   "metadata": {},
   "outputs": [
    {
     "data": {
      "text/plain": [
       "(5821928711.458811,\n",
       " array([1304586.96902, 1307788.60205, 2820906.70599, 1873540.64388,\n",
       "        1319787.16759]),\n",
       " array([1265839.868, 1269673.817, 2812268.705, 1944404.803, 1258374.162]))"
      ]
     },
     "execution_count": 2,
     "metadata": {},
     "output_type": "execute_result"
    }
   ],
   "source": [
    "import pickle\n",
    "import pandas as pd\n",
    "from sklearn.model_selection import train_test_split\n",
    "from sklearn.ensemble import RandomForestRegressor\n",
    "from sklearn.metrics import mean_squared_error\n",
    "\n",
    "# Load the Excel file\n",
    "file_path = 'Vesta_Project.xlsx'\n",
    "excel_data = pd.ExcelFile(file_path)\n",
    "\n",
    "# Load the ROI_HO_EquityAccess sheet data\n",
    "equity_access_data = pd.read_excel(excel_data, 'ROI_HO_EquityAccess')\n",
    "\n",
    "# Key variables and target for HELCO ROI model\n",
    "key_variables_Unison = ['Estimated_Value', 'Equity_Value', 'HEI Opportunity', 'Morgage Balance', \n",
    "                        'Unison_Buyout_10yr', \n",
    "                       'Vesta_Buyout_10yr']\n",
    "target_variable_Unison = 'ROI_Unison_Vesta'\n",
    "\n",
    "# Filter the dataset to include only the selected variables\n",
    "equity_access_Unison = equity_access_data[key_variables_Unison + [target_variable_Unison]].dropna()\n",
    "\n",
    "# Split data into features (X) and target (y) for the given target variable\n",
    "X_Unison = equity_access_Unison[key_variables_Unison]\n",
    "y_Unison = equity_access_Unison[target_variable_Unison]\n",
    "\n",
    "# Split data into training and testing sets\n",
    "X_train_Unison, X_test_Unison, y_train_Unison, y_test_Unison = train_test_split(X_Unison, y_Unison, test_size=0.2, random_state=42)\n",
    "\n",
    "# Build a Random Forest model for the single target variable\n",
    "rf_model_Unison = RandomForestRegressor(n_estimators=100, random_state=42)\n",
    "\n",
    "# Train the model\n",
    "rf_model_Unison.fit(X_train_Unison, y_train_Unison)\n",
    "\n",
    "# Predict on the test set\n",
    "y_pred_Unison = rf_model_Unison.predict(X_test_Unison)\n",
    "\n",
    "# Calculate the performance using Mean Squared Error (MSE)\n",
    "mse_Unison = mean_squared_error(y_test_Unison, y_pred_Unison)\n",
    "\n",
    "# Save the trained model to a pickle file\n",
    "with open('Unison_model.pkl', 'wb') as file:\n",
    "    pickle.dump(rf_model_Unison, file)\n",
    "\n",
    "mse_Unison, y_pred_Unison[:5], y_test_Unison[:5].values\n"
   ]
  },
  {
   "cell_type": "code",
   "execution_count": null,
   "id": "03b9969c",
   "metadata": {},
   "outputs": [],
   "source": []
  }
 ],
 "metadata": {
  "kernelspec": {
   "display_name": "Python 3 (ipykernel)",
   "language": "python",
   "name": "python3"
  },
  "language_info": {
   "codemirror_mode": {
    "name": "ipython",
    "version": 3
   },
   "file_extension": ".py",
   "mimetype": "text/x-python",
   "name": "python",
   "nbconvert_exporter": "python",
   "pygments_lexer": "ipython3",
   "version": "3.9.18"
  }
 },
 "nbformat": 4,
 "nbformat_minor": 5
}

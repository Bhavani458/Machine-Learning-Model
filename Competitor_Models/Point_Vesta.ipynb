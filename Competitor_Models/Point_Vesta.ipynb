{
 "cells": [
  {
   "cell_type": "code",
   "execution_count": 1,
   "id": "c305973d",
   "metadata": {},
   "outputs": [
    {
     "data": {
      "text/plain": [
       "(158180227.99728772,\n",
       " array([-44020.0844649 ,  -1357.52342616,   1301.80872776,  19427.1929814 ,\n",
       "        -28636.4987312 ]),\n",
       " array([-46721.70514 ,  -1379.914249,   1905.209151,  41646.4097  ,\n",
       "        -30394.37082 ]))"
      ]
     },
     "execution_count": 1,
     "metadata": {},
     "output_type": "execute_result"
    }
   ],
   "source": [
    "import pickle\n",
    "import pandas as pd\n",
    "from sklearn.model_selection import train_test_split\n",
    "from sklearn.ensemble import RandomForestRegressor\n",
    "from sklearn.metrics import mean_squared_error\n",
    "\n",
    "# Load the Excel file\n",
    "file_path = 'Vesta_Project.xlsx'\n",
    "excel_data = pd.ExcelFile(file_path)\n",
    "\n",
    "# Load the ROI_HO_EquityAccess sheet data\n",
    "equity_access_data = pd.read_excel(excel_data, 'ROI_HO_EquityAccess')\n",
    "\n",
    "# Key variables and target for HELCO ROI model\n",
    "key_variables_Point = ['Estimated_Value', 'Equity_Value', 'HEI Opportunity', 'Morgage Balance', \n",
    "                        'Point_Buyout_10yr', \n",
    "                       'Vesta_Buyout_10yr']\n",
    "target_variable_Point = 'ROI_Point_Vesta'\n",
    "\n",
    "# Filter the dataset to include only the selected variables\n",
    "equity_access_Point = equity_access_data[key_variables_Point + [target_variable_Point]].dropna()\n",
    "\n",
    "# Split data into features (X) and target (y) for the given target variable\n",
    "X_Point = equity_access_Point[key_variables_Point]\n",
    "y_Point = equity_access_Point[target_variable_Point]\n",
    "\n",
    "# Split data into training and testing sets\n",
    "X_train_Point, X_test_Point, y_train_Point, y_test_Point = train_test_split(X_Point, y_Point, test_size=0.2, random_state=42)\n",
    "\n",
    "# Build a Random Forest model for the single target variable\n",
    "rf_model_Point = RandomForestRegressor(n_estimators=100, random_state=42)\n",
    "\n",
    "# Train the model\n",
    "rf_model_Point.fit(X_train_Point, y_train_Point)\n",
    "\n",
    "# Predict on the test set\n",
    "y_pred_Point = rf_model_Point.predict(X_test_Point)\n",
    "\n",
    "# Calculate the performance using Mean Squared Error (MSE)\n",
    "mse_Point = mean_squared_error(y_test_Point, y_pred_Point)\n",
    "\n",
    "# Save the trained model to a pickle file\n",
    "with open('Point_model.pkl', 'wb') as file:\n",
    "    pickle.dump(rf_model_Point, file)\n",
    "\n",
    "mse_Point, y_pred_Point[:5], y_test_Point[:5].values\n"
   ]
  },
  {
   "cell_type": "code",
   "execution_count": null,
   "id": "7708edff",
   "metadata": {},
   "outputs": [],
   "source": []
  }
 ],
 "metadata": {
  "kernelspec": {
   "display_name": "Python 3 (ipykernel)",
   "language": "python",
   "name": "python3"
  },
  "language_info": {
   "codemirror_mode": {
    "name": "ipython",
    "version": 3
   },
   "file_extension": ".py",
   "mimetype": "text/x-python",
   "name": "python",
   "nbconvert_exporter": "python",
   "pygments_lexer": "ipython3",
   "version": "3.9.18"
  }
 },
 "nbformat": 4,
 "nbformat_minor": 5
}

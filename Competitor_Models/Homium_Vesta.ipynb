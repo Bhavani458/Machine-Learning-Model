{
 "cells": [
  {
   "cell_type": "code",
   "execution_count": 1,
   "id": "cd2774b4",
   "metadata": {},
   "outputs": [
    {
     "data": {
      "text/plain": [
       "(453238949.18314236,\n",
       " array([235503.757176, 272645.761553, 584216.529125, 404348.700326,\n",
       "        247031.608317]),\n",
       " array([224618.8215, 261352.3553, 582816.3151, 434927.3344, 236017.8087]))"
      ]
     },
     "execution_count": 1,
     "metadata": {},
     "output_type": "execute_result"
    }
   ],
   "source": [
    "import pickle\n",
    "import pandas as pd\n",
    "from sklearn.model_selection import train_test_split\n",
    "from sklearn.ensemble import RandomForestRegressor\n",
    "from sklearn.metrics import mean_squared_error\n",
    "\n",
    "# Load the Excel file\n",
    "file_path = 'Vesta_Project.xlsx'\n",
    "excel_data = pd.ExcelFile(file_path)\n",
    "\n",
    "# Load the ROI_HO_EquityAccess sheet data\n",
    "equity_access_data = pd.read_excel(excel_data, 'ROI_HO_EquityAccess')\n",
    "\n",
    "# Key variables and target for HELCO ROI model\n",
    "key_variables_Homium = ['Estimated_Value', 'Equity_Value', 'HEI Opportunity', 'Morgage Balance', \n",
    "                        'Homium_Buyout_10yr', \n",
    "                       'Vesta_Buyout_10yr']\n",
    "target_variable_Homium = 'ROI_Homium_Vesta'\n",
    "\n",
    "# Filter the dataset to include only the selected variables\n",
    "equity_access_Homium = equity_access_data[key_variables_Homium + [target_variable_Homium]].dropna()\n",
    "\n",
    "# Split data into features (X) and target (y) for the given target variable\n",
    "X_Homium = equity_access_Homium[key_variables_Homium]\n",
    "y_Homium = equity_access_Homium[target_variable_Homium]\n",
    "\n",
    "# Split data into training and testing sets\n",
    "X_train_Homium, X_test_Homium, y_train_Homium, y_test_Homium = train_test_split(X_Homium, y_Homium, test_size=0.2, random_state=42)\n",
    "\n",
    "# Build a Random Forest model for the single target variable\n",
    "rf_model_Homium = RandomForestRegressor(n_estimators=100, random_state=42)\n",
    "\n",
    "# Train the model\n",
    "rf_model_Homium.fit(X_train_Homium, y_train_Homium)\n",
    "\n",
    "# Predict on the test set\n",
    "y_pred_Homium = rf_model_Homium.predict(X_test_Homium)\n",
    "\n",
    "# Calculate the performance using Mean Squared Error (MSE)\n",
    "mse_Homium = mean_squared_error(y_test_Homium, y_pred_Homium)\n",
    "\n",
    "# Save the trained model to a pickle file\n",
    "with open('Homium_model.pkl', 'wb') as file:\n",
    "    pickle.dump(rf_model_Homium, file)\n",
    "\n",
    "mse_Homium, y_pred_Homium[:5], y_test_Homium[:5].values\n"
   ]
  },
  {
   "cell_type": "code",
   "execution_count": null,
   "id": "73485320",
   "metadata": {},
   "outputs": [],
   "source": []
  }
 ],
 "metadata": {
  "kernelspec": {
   "display_name": "Python 3 (ipykernel)",
   "language": "python",
   "name": "python3"
  },
  "language_info": {
   "codemirror_mode": {
    "name": "ipython",
    "version": 3
   },
   "file_extension": ".py",
   "mimetype": "text/x-python",
   "name": "python",
   "nbconvert_exporter": "python",
   "pygments_lexer": "ipython3",
   "version": "3.9.18"
  }
 },
 "nbformat": 4,
 "nbformat_minor": 5
}

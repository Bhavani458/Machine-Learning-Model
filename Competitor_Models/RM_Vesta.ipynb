{
 "cells": [
  {
   "cell_type": "code",
   "execution_count": 1,
   "id": "fe26bc0a",
   "metadata": {},
   "outputs": [
    {
     "data": {
      "text/plain": [
       "(21262716.17788697,\n",
       " array([152610.560003 , 100000.1828382, 217725.475068 , 110455.8235757,\n",
       "        131088.9414108]),\n",
       " array([151749.1817, 101782.9877, 219943.7835, 107357.7345, 133058.124 ]))"
      ]
     },
     "execution_count": 1,
     "metadata": {},
     "output_type": "execute_result"
    }
   ],
   "source": [
    "import pickle\n",
    "import pandas as pd\n",
    "from sklearn.model_selection import train_test_split\n",
    "from sklearn.ensemble import RandomForestRegressor\n",
    "from sklearn.metrics import mean_squared_error\n",
    "\n",
    "# Load the Excel file\n",
    "file_path = 'Vesta_Project.xlsx'\n",
    "excel_data = pd.ExcelFile(file_path)\n",
    "\n",
    "# Load the ROI_HO_EquityAccess sheet data\n",
    "equity_access_data = pd.read_excel(excel_data, 'ROI_HO_EquityAccess')\n",
    "\n",
    "# Key variables and target for HELCO ROI model\n",
    "key_variables_RM = ['Estimated_Value', 'Equity_Value', 'HEI Opportunity', 'Morgage Balance', 'Reverse_Mortgage_Cost_10yr', \n",
    "                       'Vesta_Buyout_10yr']\n",
    "target_variable_RM = 'ROI_RM_Vesta'\n",
    "\n",
    "# Filter the dataset to include only the selected variables\n",
    "equity_access_RM = equity_access_data[key_variables_RM + [target_variable_RM]].dropna()\n",
    "\n",
    "# Split data into features (X) and target (y) for the given target variable\n",
    "X_RM = equity_access_RM[key_variables_RM]\n",
    "y_RM = equity_access_RM[target_variable_RM]\n",
    "\n",
    "# Split data into training and testing sets\n",
    "X_train_RM, X_test_RM, y_train_RM, y_test_RM = train_test_split(X_RM, y_RM, test_size=0.2, random_state=42)\n",
    "\n",
    "# Build a Random Forest model for the single target variable\n",
    "rf_model_RM = RandomForestRegressor(n_estimators=100, random_state=42)\n",
    "\n",
    "# Train the model\n",
    "rf_model_RM.fit(X_train_RM, y_train_RM)\n",
    "\n",
    "# Predict on the test set\n",
    "y_pred_RM = rf_model_RM.predict(X_test_RM)\n",
    "\n",
    "# Calculate the performance using Mean Squared Error (MSE)\n",
    "mse_RM = mean_squared_error(y_test_RM, y_pred_RM)\n",
    "\n",
    "# Save the trained model to a pickle file\n",
    "with open('RM_model.pkl', 'wb') as file:\n",
    "    pickle.dump(rf_model_RM, file)\n",
    "\n",
    "mse_RM, y_pred_RM[:5], y_test_RM[:5].values\n"
   ]
  }
 ],
 "metadata": {
  "kernelspec": {
   "display_name": "Python 3 (ipykernel)",
   "language": "python",
   "name": "python3"
  },
  "language_info": {
   "codemirror_mode": {
    "name": "ipython",
    "version": 3
   },
   "file_extension": ".py",
   "mimetype": "text/x-python",
   "name": "python",
   "nbconvert_exporter": "python",
   "pygments_lexer": "ipython3",
   "version": "3.9.18"
  }
 },
 "nbformat": 4,
 "nbformat_minor": 5
}

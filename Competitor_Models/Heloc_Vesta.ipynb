{
 "cells": [
  {
   "cell_type": "code",
   "execution_count": 2,
   "id": "048f3a47",
   "metadata": {},
   "outputs": [
    {
     "data": {
      "text/plain": [
       "(62759300.0662335,\n",
       " array([256620.149809, 168729.979441, 365907.738607, 184791.457313,\n",
       "        220882.935129]),\n",
       " array([255091.5881, 171098.0164, 369727.2592, 180469.2103, 223671.7706]))"
      ]
     },
     "execution_count": 2,
     "metadata": {},
     "output_type": "execute_result"
    }
   ],
   "source": [
    "import pickle\n",
    "import pandas as pd\n",
    "from sklearn.model_selection import train_test_split\n",
    "from sklearn.ensemble import RandomForestRegressor\n",
    "from sklearn.metrics import mean_squared_error\n",
    "\n",
    "# Load the Excel file\n",
    "file_path = 'Vesta_Project.xlsx'\n",
    "excel_data = pd.ExcelFile(file_path)\n",
    "\n",
    "# Load the ROI_HO_EquityAccess sheet data\n",
    "equity_access_data = pd.read_excel(excel_data, 'ROI_HO_EquityAccess')\n",
    "\n",
    "# Key variables and target for HELCO ROI model\n",
    "key_variables_Heloc = ['Estimated_Value', 'Equity_Value', 'HEI Opportunity', 'Morgage Balance', 'HELOC_Cost_10yr', 'Vesta_Buyout_10yr']\n",
    "target_variable_Heloc = 'ROI_HELOC_Vesta'\n",
    "\n",
    "# Filter the dataset to include only the selected variables\n",
    "equity_access_Heloc = equity_access_data[key_variables_Heloc + [target_variable_Heloc]].dropna()\n",
    "\n",
    "# Split data into features (X) and target (y) for the given target variable\n",
    "X_Heloc = equity_access_Heloc[key_variables_Heloc]\n",
    "y_Heloc = equity_access_Heloc[target_variable_Heloc]\n",
    "\n",
    "# Split data into training and testing sets\n",
    "X_train_Heloc, X_test_Heloc, y_train_Heloc, y_test_Heloc = train_test_split(X_Heloc, y_Heloc, test_size=0.2, random_state=42)\n",
    "\n",
    "# Build a Random Forest model for the single target variable\n",
    "rf_model_Heloc = RandomForestRegressor(n_estimators=100, random_state=42)\n",
    "\n",
    "# Train the model\n",
    "rf_model_Heloc.fit(X_train_Heloc, y_train_Heloc)\n",
    "\n",
    "# Predict on the test set\n",
    "y_pred_Heloc = rf_model_Heloc.predict(X_test_Heloc)\n",
    "\n",
    "# Calculate the performance using Mean Squared Error (MSE)\n",
    "mse_Heloc = mean_squared_error(y_test_Heloc, y_pred_Heloc)\n",
    "\n",
    "# Save the trained model to a pickle file\n",
    "with open('heloc_model.pkl', 'wb') as file:\n",
    "    pickle.dump(rf_model_Heloc, file)\n",
    "\n",
    "mse_Heloc, y_pred_Heloc[:5], y_test_Heloc[:5].values\n"
   ]
  }
 ],
 "metadata": {
  "kernelspec": {
   "display_name": "Python 3 (ipykernel)",
   "language": "python",
   "name": "python3"
  },
  "language_info": {
   "codemirror_mode": {
    "name": "ipython",
    "version": 3
   },
   "file_extension": ".py",
   "mimetype": "text/x-python",
   "name": "python",
   "nbconvert_exporter": "python",
   "pygments_lexer": "ipython3",
   "version": "3.9.18"
  }
 },
 "nbformat": 4,
 "nbformat_minor": 5
}
